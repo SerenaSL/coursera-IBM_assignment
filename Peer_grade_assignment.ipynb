{
 "cells": [
  {
   "cell_type": "markdown",
   "metadata": {},
   "source": [
    "<center>\n",
    "    <img src=\"https://s3-api.us-geo.objectstorage.softlayer.net/cf-courses-data/CognitiveClass/Logos/organization_logo/organization_logo.png\" width=\"300\" alt=\"cognitiveclass.ai logo\"  />\n",
    "</center>\n"
   ]
  },
  {
   "cell_type": "markdown",
   "metadata": {},
   "source": [
    "#### Add your code below following the instructions given in the course\n"
   ]
  },
  {
   "cell_type": "markdown",
   "metadata": {},
   "source": [
    "# My Jupyter Notebook on IBM Watson Studio"
   ]
  },
  {
   "cell_type": "markdown",
   "metadata": {},
   "source": [
    "**Siyuan Li**\n",
    "<br>Business Analyst"
   ]
  },
  {
   "cell_type": "markdown",
   "metadata": {},
   "source": [
    "*Data science is a great field contains not only big data, machine learning, AI and etc and it is still developing. Data science tools help me as an analyst to aid company with its business strategies.*"
   ]
  },
  {
   "cell_type": "markdown",
   "metadata": {},
   "source": [
    "### Code below will sum up all the positive numbers by using \"for loop\". The value for total is starting from 0. If the number in the tuple is larger than 0, then it will be added to the total value. "
   ]
  },
  {
   "cell_type": "raw",
   "metadata": {},
   "source": [
    "total = 0\n",
    "for num in (10.5, -0.5, 2, -7.8, -1, 5, -11.3, 2, -7, 10):\n",
    "    if num > 0:\n",
    "        total= total + num\n",
    "print(total)"
   ]
  },
  {
   "cell_type": "markdown",
   "metadata": {},
   "source": [
    "1. The link below is a markdown cheat sheet from IBM\n",
    "<br> [Jupyter notebook markdown cheat sheet](https://www.ibm.com/docs/en/db2-event-store/2.0.0?topic=notebooks-markdown-jupyter-cheatsheet)\n",
    "\n",
    "2. In the cheat sheet, it includes the contents below:\n",
    "    * Headings, emphasis, line breaks\n",
    "    * Bullet, numbered lists\n",
    "    * Graphics, links"
   ]
  }
 ],
 "metadata": {
  "kernelspec": {
   "display_name": "Python",
   "language": "python",
   "name": "conda-env-python-py"
  },
  "language_info": {
   "codemirror_mode": {
    "name": "ipython",
    "version": 3
   },
   "file_extension": ".py",
   "mimetype": "text/x-python",
   "name": "python",
   "nbconvert_exporter": "python",
   "pygments_lexer": "ipython3",
   "version": "3.7.12"
  }
 },
 "nbformat": 4,
 "nbformat_minor": 4
}
